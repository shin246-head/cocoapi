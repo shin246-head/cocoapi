{
  "nbformat": 4,
  "nbformat_minor": 0,
  "metadata": {
    "colab": {
      "provenance": [],
      "authorship_tag": "ABX9TyNnaTguiZz0O9lko7L9iyhN",
      "include_colab_link": true
    },
    "kernelspec": {
      "name": "python3",
      "display_name": "Python 3"
    },
    "language_info": {
      "name": "python"
    }
  },
  "cells": [
    {
      "cell_type": "markdown",
      "metadata": {
        "id": "view-in-github",
        "colab_type": "text"
      },
      "source": [
        "<a href=\"https://colab.research.google.com/github/xc597/cocoapi/blob/master/pt2tflite.ipynb\" target=\"_parent\"><img src=\"https://colab.research.google.com/assets/colab-badge.svg\" alt=\"Open In Colab\"/></a>"
      ]
    },
    {
      "cell_type": "code",
      "execution_count": 2,
      "metadata": {
        "colab": {
          "base_uri": "https://localhost:8080/"
        },
        "id": "FPtyg8ua9czo",
        "outputId": "0d2ba330-96a6-4af8-df0f-bf8dfbe12837"
      },
      "outputs": [
        {
          "output_type": "stream",
          "name": "stdout",
          "text": [
            "Cloning into 'yolov5'...\n",
            "remote: Enumerating objects: 16525, done.\u001b[K\n",
            "remote: Counting objects: 100% (3/3), done.\u001b[K\n",
            "remote: Compressing objects: 100% (3/3), done.\u001b[K\n",
            "remote: Total 16525 (delta 0), reused 2 (delta 0), pack-reused 16522\u001b[K\n",
            "Receiving objects: 100% (16525/16525), 15.00 MiB | 22.33 MiB/s, done.\n",
            "Resolving deltas: 100% (11359/11359), done.\n"
          ]
        }
      ],
      "source": [
        "! git clone https://github.com/ultralytics/yolov5.git\n"
      ]
    },
    {
      "cell_type": "code",
      "source": [
        " !pip install -r /content/yolov5/requirements.txt"
      ],
      "metadata": {
        "colab": {
          "base_uri": "https://localhost:8080/"
        },
        "id": "YDjFAoIs9l2a",
        "outputId": "c6286335-eedf-4a8b-b53a-66f47f82549f"
      },
      "execution_count": 1,
      "outputs": [
        {
          "output_type": "stream",
          "name": "stdout",
          "text": [
            "Requirement already satisfied: gitpython>=3.1.30 in /usr/local/lib/python3.10/dist-packages (from -r /content/yolov5/requirements.txt (line 5)) (3.1.43)\n",
            "Requirement already satisfied: matplotlib>=3.3 in /usr/local/lib/python3.10/dist-packages (from -r /content/yolov5/requirements.txt (line 6)) (3.7.1)\n",
            "Requirement already satisfied: numpy>=1.23.5 in /usr/local/lib/python3.10/dist-packages (from -r /content/yolov5/requirements.txt (line 7)) (1.25.2)\n",
            "Requirement already satisfied: opencv-python>=4.1.1 in /usr/local/lib/python3.10/dist-packages (from -r /content/yolov5/requirements.txt (line 8)) (4.8.0.76)\n",
            "Requirement already satisfied: pillow>=10.3.0 in /usr/local/lib/python3.10/dist-packages (from -r /content/yolov5/requirements.txt (line 9)) (10.3.0)\n",
            "Requirement already satisfied: psutil in /usr/local/lib/python3.10/dist-packages (from -r /content/yolov5/requirements.txt (line 10)) (5.9.5)\n",
            "Requirement already satisfied: PyYAML>=5.3.1 in /usr/local/lib/python3.10/dist-packages (from -r /content/yolov5/requirements.txt (line 11)) (6.0.1)\n",
            "Requirement already satisfied: requests>=2.23.0 in /usr/local/lib/python3.10/dist-packages (from -r /content/yolov5/requirements.txt (line 12)) (2.31.0)\n",
            "Requirement already satisfied: scipy>=1.4.1 in /usr/local/lib/python3.10/dist-packages (from -r /content/yolov5/requirements.txt (line 13)) (1.11.4)\n",
            "Requirement already satisfied: thop>=0.1.1 in /usr/local/lib/python3.10/dist-packages (from -r /content/yolov5/requirements.txt (line 14)) (0.1.1.post2209072238)\n",
            "Requirement already satisfied: torch>=1.8.0 in /usr/local/lib/python3.10/dist-packages (from -r /content/yolov5/requirements.txt (line 15)) (2.2.1+cu121)\n",
            "Requirement already satisfied: torchvision>=0.9.0 in /usr/local/lib/python3.10/dist-packages (from -r /content/yolov5/requirements.txt (line 16)) (0.17.1+cu121)\n",
            "Requirement already satisfied: tqdm>=4.64.0 in /usr/local/lib/python3.10/dist-packages (from -r /content/yolov5/requirements.txt (line 17)) (4.66.2)\n",
            "Requirement already satisfied: ultralytics>=8.0.232 in /usr/local/lib/python3.10/dist-packages (from -r /content/yolov5/requirements.txt (line 18)) (8.1.45)\n",
            "Requirement already satisfied: pandas>=1.1.4 in /usr/local/lib/python3.10/dist-packages (from -r /content/yolov5/requirements.txt (line 27)) (2.0.3)\n",
            "Requirement already satisfied: seaborn>=0.11.0 in /usr/local/lib/python3.10/dist-packages (from -r /content/yolov5/requirements.txt (line 28)) (0.13.1)\n",
            "Requirement already satisfied: setuptools>=65.5.1 in /usr/local/lib/python3.10/dist-packages (from -r /content/yolov5/requirements.txt (line 42)) (67.7.2)\n",
            "Requirement already satisfied: wheel>=0.38.0 in /usr/local/lib/python3.10/dist-packages (from -r /content/yolov5/requirements.txt (line 50)) (0.43.0)\n",
            "Requirement already satisfied: gitdb<5,>=4.0.1 in /usr/local/lib/python3.10/dist-packages (from gitpython>=3.1.30->-r /content/yolov5/requirements.txt (line 5)) (4.0.11)\n",
            "Requirement already satisfied: contourpy>=1.0.1 in /usr/local/lib/python3.10/dist-packages (from matplotlib>=3.3->-r /content/yolov5/requirements.txt (line 6)) (1.2.0)\n",
            "Requirement already satisfied: cycler>=0.10 in /usr/local/lib/python3.10/dist-packages (from matplotlib>=3.3->-r /content/yolov5/requirements.txt (line 6)) (0.12.1)\n",
            "Requirement already satisfied: fonttools>=4.22.0 in /usr/local/lib/python3.10/dist-packages (from matplotlib>=3.3->-r /content/yolov5/requirements.txt (line 6)) (4.50.0)\n",
            "Requirement already satisfied: kiwisolver>=1.0.1 in /usr/local/lib/python3.10/dist-packages (from matplotlib>=3.3->-r /content/yolov5/requirements.txt (line 6)) (1.4.5)\n",
            "Requirement already satisfied: packaging>=20.0 in /usr/local/lib/python3.10/dist-packages (from matplotlib>=3.3->-r /content/yolov5/requirements.txt (line 6)) (24.0)\n",
            "Requirement already satisfied: pyparsing>=2.3.1 in /usr/local/lib/python3.10/dist-packages (from matplotlib>=3.3->-r /content/yolov5/requirements.txt (line 6)) (3.1.2)\n",
            "Requirement already satisfied: python-dateutil>=2.7 in /usr/local/lib/python3.10/dist-packages (from matplotlib>=3.3->-r /content/yolov5/requirements.txt (line 6)) (2.8.2)\n",
            "Requirement already satisfied: charset-normalizer<4,>=2 in /usr/local/lib/python3.10/dist-packages (from requests>=2.23.0->-r /content/yolov5/requirements.txt (line 12)) (3.3.2)\n",
            "Requirement already satisfied: idna<4,>=2.5 in /usr/local/lib/python3.10/dist-packages (from requests>=2.23.0->-r /content/yolov5/requirements.txt (line 12)) (3.6)\n",
            "Requirement already satisfied: urllib3<3,>=1.21.1 in /usr/local/lib/python3.10/dist-packages (from requests>=2.23.0->-r /content/yolov5/requirements.txt (line 12)) (2.0.7)\n",
            "Requirement already satisfied: certifi>=2017.4.17 in /usr/local/lib/python3.10/dist-packages (from requests>=2.23.0->-r /content/yolov5/requirements.txt (line 12)) (2024.2.2)\n",
            "Requirement already satisfied: filelock in /usr/local/lib/python3.10/dist-packages (from torch>=1.8.0->-r /content/yolov5/requirements.txt (line 15)) (3.13.3)\n",
            "Requirement already satisfied: typing-extensions>=4.8.0 in /usr/local/lib/python3.10/dist-packages (from torch>=1.8.0->-r /content/yolov5/requirements.txt (line 15)) (4.10.0)\n",
            "Requirement already satisfied: sympy in /usr/local/lib/python3.10/dist-packages (from torch>=1.8.0->-r /content/yolov5/requirements.txt (line 15)) (1.12)\n",
            "Requirement already satisfied: networkx in /usr/local/lib/python3.10/dist-packages (from torch>=1.8.0->-r /content/yolov5/requirements.txt (line 15)) (3.2.1)\n",
            "Requirement already satisfied: jinja2 in /usr/local/lib/python3.10/dist-packages (from torch>=1.8.0->-r /content/yolov5/requirements.txt (line 15)) (3.1.3)\n",
            "Requirement already satisfied: fsspec in /usr/local/lib/python3.10/dist-packages (from torch>=1.8.0->-r /content/yolov5/requirements.txt (line 15)) (2023.6.0)\n",
            "Requirement already satisfied: nvidia-cuda-nvrtc-cu12==12.1.105 in /usr/local/lib/python3.10/dist-packages (from torch>=1.8.0->-r /content/yolov5/requirements.txt (line 15)) (12.1.105)\n",
            "Requirement already satisfied: nvidia-cuda-runtime-cu12==12.1.105 in /usr/local/lib/python3.10/dist-packages (from torch>=1.8.0->-r /content/yolov5/requirements.txt (line 15)) (12.1.105)\n",
            "Requirement already satisfied: nvidia-cuda-cupti-cu12==12.1.105 in /usr/local/lib/python3.10/dist-packages (from torch>=1.8.0->-r /content/yolov5/requirements.txt (line 15)) (12.1.105)\n",
            "Requirement already satisfied: nvidia-cudnn-cu12==8.9.2.26 in /usr/local/lib/python3.10/dist-packages (from torch>=1.8.0->-r /content/yolov5/requirements.txt (line 15)) (8.9.2.26)\n",
            "Requirement already satisfied: nvidia-cublas-cu12==12.1.3.1 in /usr/local/lib/python3.10/dist-packages (from torch>=1.8.0->-r /content/yolov5/requirements.txt (line 15)) (12.1.3.1)\n",
            "Requirement already satisfied: nvidia-cufft-cu12==11.0.2.54 in /usr/local/lib/python3.10/dist-packages (from torch>=1.8.0->-r /content/yolov5/requirements.txt (line 15)) (11.0.2.54)\n",
            "Requirement already satisfied: nvidia-curand-cu12==10.3.2.106 in /usr/local/lib/python3.10/dist-packages (from torch>=1.8.0->-r /content/yolov5/requirements.txt (line 15)) (10.3.2.106)\n",
            "Requirement already satisfied: nvidia-cusolver-cu12==11.4.5.107 in /usr/local/lib/python3.10/dist-packages (from torch>=1.8.0->-r /content/yolov5/requirements.txt (line 15)) (11.4.5.107)\n",
            "Requirement already satisfied: nvidia-cusparse-cu12==12.1.0.106 in /usr/local/lib/python3.10/dist-packages (from torch>=1.8.0->-r /content/yolov5/requirements.txt (line 15)) (12.1.0.106)\n",
            "Requirement already satisfied: nvidia-nccl-cu12==2.19.3 in /usr/local/lib/python3.10/dist-packages (from torch>=1.8.0->-r /content/yolov5/requirements.txt (line 15)) (2.19.3)\n",
            "Requirement already satisfied: nvidia-nvtx-cu12==12.1.105 in /usr/local/lib/python3.10/dist-packages (from torch>=1.8.0->-r /content/yolov5/requirements.txt (line 15)) (12.1.105)\n",
            "Requirement already satisfied: triton==2.2.0 in /usr/local/lib/python3.10/dist-packages (from torch>=1.8.0->-r /content/yolov5/requirements.txt (line 15)) (2.2.0)\n",
            "Requirement already satisfied: nvidia-nvjitlink-cu12 in /usr/local/lib/python3.10/dist-packages (from nvidia-cusolver-cu12==11.4.5.107->torch>=1.8.0->-r /content/yolov5/requirements.txt (line 15)) (12.4.127)\n",
            "Requirement already satisfied: py-cpuinfo in /usr/local/lib/python3.10/dist-packages (from ultralytics>=8.0.232->-r /content/yolov5/requirements.txt (line 18)) (9.0.0)\n",
            "Requirement already satisfied: pytz>=2020.1 in /usr/local/lib/python3.10/dist-packages (from pandas>=1.1.4->-r /content/yolov5/requirements.txt (line 27)) (2023.4)\n",
            "Requirement already satisfied: tzdata>=2022.1 in /usr/local/lib/python3.10/dist-packages (from pandas>=1.1.4->-r /content/yolov5/requirements.txt (line 27)) (2024.1)\n",
            "Requirement already satisfied: smmap<6,>=3.0.1 in /usr/local/lib/python3.10/dist-packages (from gitdb<5,>=4.0.1->gitpython>=3.1.30->-r /content/yolov5/requirements.txt (line 5)) (5.0.1)\n",
            "Requirement already satisfied: six>=1.5 in /usr/local/lib/python3.10/dist-packages (from python-dateutil>=2.7->matplotlib>=3.3->-r /content/yolov5/requirements.txt (line 6)) (1.16.0)\n",
            "Requirement already satisfied: MarkupSafe>=2.0 in /usr/local/lib/python3.10/dist-packages (from jinja2->torch>=1.8.0->-r /content/yolov5/requirements.txt (line 15)) (2.1.5)\n",
            "Requirement already satisfied: mpmath>=0.19 in /usr/local/lib/python3.10/dist-packages (from sympy->torch>=1.8.0->-r /content/yolov5/requirements.txt (line 15)) (1.3.0)\n"
          ]
        }
      ]
    },
    {
      "cell_type": "code",
      "source": [
        "!unzip data-demo.zip"
      ],
      "metadata": {
        "colab": {
          "base_uri": "https://localhost:8080/"
        },
        "id": "SLLPiv-D-vwT",
        "outputId": "eeea7db2-fc98-433f-93ab-9815471040bf"
      },
      "execution_count": 2,
      "outputs": [
        {
          "output_type": "stream",
          "name": "stdout",
          "text": [
            "Archive:  data-demo.zip\n",
            "  inflating: data-demo/data.yaml     \n",
            "   creating: data-demo/test/\n",
            "   creating: data-demo/test/images/\n",
            "  inflating: data-demo/test/images/03.jpg  \n",
            "  inflating: data-demo/test/images/07.jpg  \n",
            "  inflating: data-demo/test/images/09.jpg  \n",
            "  inflating: data-demo/test/images/12.jpg  \n",
            "  inflating: data-demo/test/images/18.jpg  \n",
            "   creating: data-demo/test/labels/\n",
            "  inflating: data-demo/test/labels/03.txt  \n",
            "  inflating: data-demo/test/labels/07.txt  \n",
            "  inflating: data-demo/test/labels/09.txt  \n",
            "  inflating: data-demo/test/labels/12.txt  \n",
            "  inflating: data-demo/test/labels/18.txt  \n",
            "   creating: data-demo/train/\n",
            "   creating: data-demo/train/images/\n",
            "  inflating: data-demo/train/images/01.jpg  \n",
            "  inflating: data-demo/train/images/02.jpg  \n",
            "  inflating: data-demo/train/images/05.jpg  \n",
            "  inflating: data-demo/train/images/06.jpg  \n",
            "  inflating: data-demo/train/images/10.jpg  \n",
            "  inflating: data-demo/train/images/11.jpg  \n",
            "  inflating: data-demo/train/images/13.jpg  \n",
            "  inflating: data-demo/train/images/14.jpg  \n",
            "  inflating: data-demo/train/images/15.jpg  \n",
            "  inflating: data-demo/train/images/16.jpg  \n",
            "  inflating: data-demo/train/images/17.jpg  \n",
            "  inflating: data-demo/train/images/19.jpg  \n",
            "  inflating: data-demo/train/images/20.jpg  \n",
            "  inflating: data-demo/train/images/21.jpg  \n",
            "  inflating: data-demo/train/images/22.jpg  \n",
            "  inflating: data-demo/train/images/23.jpg  \n",
            "  inflating: data-demo/train/images/24.jpg  \n",
            "  inflating: data-demo/train/labels.cache  \n",
            "   creating: data-demo/train/labels/\n",
            "  inflating: data-demo/train/labels/01.txt  \n",
            "  inflating: data-demo/train/labels/02.txt  \n",
            "  inflating: data-demo/train/labels/05.txt  \n",
            "  inflating: data-demo/train/labels/06.txt  \n",
            "  inflating: data-demo/train/labels/10.txt  \n",
            "  inflating: data-demo/train/labels/11.txt  \n",
            "  inflating: data-demo/train/labels/13.txt  \n",
            "  inflating: data-demo/train/labels/14.txt  \n",
            "  inflating: data-demo/train/labels/15.txt  \n",
            "  inflating: data-demo/train/labels/16.txt  \n",
            "  inflating: data-demo/train/labels/17.txt  \n",
            "  inflating: data-demo/train/labels/19.txt  \n",
            "  inflating: data-demo/train/labels/20.txt  \n",
            "  inflating: data-demo/train/labels/21.txt  \n",
            "  inflating: data-demo/train/labels/22.txt  \n",
            "  inflating: data-demo/train/labels/23.txt  \n",
            "  inflating: data-demo/train/labels/24.txt  \n",
            "   creating: data-demo/valid/\n",
            "   creating: data-demo/valid/images/\n",
            "  inflating: data-demo/valid/images/08.jpg  \n",
            "  inflating: data-demo/valid/labels.cache  \n",
            "   creating: data-demo/valid/labels/\n",
            "  inflating: data-demo/valid/labels/08.txt  \n"
          ]
        }
      ]
    },
    {
      "cell_type": "code",
      "source": [
        "! python yolov5/export.py --weights yolov5/best.pt --include tflite --img 320"
      ],
      "metadata": {
        "colab": {
          "base_uri": "https://localhost:8080/"
        },
        "id": "8MroHIoV_nyq",
        "outputId": "108f535a-fabf-4853-cb30-35f1f4674b29"
      },
      "execution_count": 3,
      "outputs": [
        {
          "output_type": "stream",
          "name": "stdout",
          "text": [
            "\u001b[34m\u001b[1mexport: \u001b[0mdata=yolov5/data/coco128.yaml, weights=['yolov5/best.pt'], imgsz=[320], batch_size=1, device=cpu, half=False, inplace=False, keras=False, optimize=False, int8=False, per_tensor=False, dynamic=False, simplify=False, opset=17, verbose=False, workspace=4, nms=False, agnostic_nms=False, topk_per_class=100, topk_all=100, iou_thres=0.45, conf_thres=0.25, include=['tflite']\n",
            "YOLOv5 🚀 v7.0-296-gae4ef3b2 Python-3.10.12 torch-2.2.1+cu121 CPU\n",
            "\n",
            "Fusing layers... \n",
            "YOLOv5s summary: 157 layers, 7012822 parameters, 0 gradients, 15.8 GFLOPs\n",
            "\n",
            "\u001b[34m\u001b[1mPyTorch:\u001b[0m starting from yolov5/best.pt with output shape (1, 6300, 6) (13.8 MB)\n",
            "2024-04-08 13:56:45.843349: E external/local_xla/xla/stream_executor/cuda/cuda_dnn.cc:9261] Unable to register cuDNN factory: Attempting to register factory for plugin cuDNN when one has already been registered\n",
            "2024-04-08 13:56:45.843456: E external/local_xla/xla/stream_executor/cuda/cuda_fft.cc:607] Unable to register cuFFT factory: Attempting to register factory for plugin cuFFT when one has already been registered\n",
            "2024-04-08 13:56:46.013639: E external/local_xla/xla/stream_executor/cuda/cuda_blas.cc:1515] Unable to register cuBLAS factory: Attempting to register factory for plugin cuBLAS when one has already been registered\n",
            "\n",
            "\u001b[34m\u001b[1mTensorFlow SavedModel:\u001b[0m starting export with tensorflow 2.15.0...\n",
            "WARNING ⚠️ using Tensorflow 2.15.0 > 2.13.1 might cause issue when exporting the model to tflite https://github.com/ultralytics/yolov5/issues/12489\n",
            "\n",
            "                 from  n    params  module                                  arguments                     \n",
            "  0                -1  1      3520  models.common.Conv                      [3, 32, 6, 2, 2]              \n",
            "  1                -1  1     18560  models.common.Conv                      [32, 64, 3, 2]                \n",
            "  2                -1  1     18816  models.common.C3                        [64, 64, 1]                   \n",
            "  3                -1  1     73984  models.common.Conv                      [64, 128, 3, 2]               \n",
            "  4                -1  1    115712  models.common.C3                        [128, 128, 2]                 \n",
            "  5                -1  1    295424  models.common.Conv                      [128, 256, 3, 2]              \n",
            "  6                -1  1    625152  models.common.C3                        [256, 256, 3]                 \n",
            "  7                -1  1   1180672  models.common.Conv                      [256, 512, 3, 2]              \n",
            "  8                -1  1   1182720  models.common.C3                        [512, 512, 1]                 \n",
            "  9                -1  1    656896  models.common.SPPF                      [512, 512, 5]                 \n",
            " 10                -1  1    131584  models.common.Conv                      [512, 256, 1, 1]              \n",
            " 11                -1  1         0  torch.nn.modules.upsampling.Upsample    [None, 2, 'nearest']          \n",
            " 12           [-1, 6]  1         0  models.common.Concat                    [1]                           \n",
            " 13                -1  1    361984  models.common.C3                        [512, 256, 1, False]          \n",
            " 14                -1  1     33024  models.common.Conv                      [256, 128, 1, 1]              \n",
            " 15                -1  1         0  torch.nn.modules.upsampling.Upsample    [None, 2, 'nearest']          \n",
            " 16           [-1, 4]  1         0  models.common.Concat                    [1]                           \n",
            " 17                -1  1     90880  models.common.C3                        [256, 128, 1, False]          \n",
            " 18                -1  1    147712  models.common.Conv                      [128, 128, 3, 2]              \n",
            " 19          [-1, 14]  1         0  models.common.Concat                    [1]                           \n",
            " 20                -1  1    296448  models.common.C3                        [256, 256, 1, False]          \n",
            " 21                -1  1    590336  models.common.Conv                      [256, 256, 3, 2]              \n",
            " 22          [-1, 10]  1         0  models.common.Concat                    [1]                           \n",
            " 23                -1  1   1182720  models.common.C3                        [512, 512, 1, False]          \n",
            " 24      [17, 20, 23]  1     16182  models.yolo.Detect                      [1, [[10, 13, 16, 30, 33, 23], [30, 61, 62, 45, 59, 119], [116, 90, 156, 198, 373, 326]], [128, 256, 512], [320, 320]]\n",
            "Model: \"model\"\n",
            "__________________________________________________________________________________________________\n",
            " Layer (type)                Output Shape                 Param #   Connected to                  \n",
            "==================================================================================================\n",
            " input_1 (InputLayer)        [(1, 320, 320, 3)]           0         []                            \n",
            "                                                                                                  \n",
            " tf_conv (TFConv)            (1, 160, 160, 32)            3488      ['input_1[0][0]']             \n",
            "                                                                                                  \n",
            " tf_conv_1 (TFConv)          (1, 80, 80, 64)              18496     ['tf_conv[0][0]']             \n",
            "                                                                                                  \n",
            " tfc3 (TFC3)                 (1, 80, 80, 64)              18624     ['tf_conv_1[0][0]']           \n",
            "                                                                                                  \n",
            " tf_conv_7 (TFConv)          (1, 40, 40, 128)             73856     ['tfc3[0][0]']                \n",
            "                                                                                                  \n",
            " tfc3_1 (TFC3)               (1, 40, 40, 128)             115200    ['tf_conv_7[0][0]']           \n",
            "                                                                                                  \n",
            " tf_conv_15 (TFConv)         (1, 20, 20, 256)             295168    ['tfc3_1[0][0]']              \n",
            "                                                                                                  \n",
            " tfc3_2 (TFC3)               (1, 20, 20, 256)             623872    ['tf_conv_15[0][0]']          \n",
            "                                                                                                  \n",
            " tf_conv_25 (TFConv)         (1, 10, 10, 512)             1180160   ['tfc3_2[0][0]']              \n",
            "                                                                                                  \n",
            " tfc3_3 (TFC3)               (1, 10, 10, 512)             1181184   ['tf_conv_25[0][0]']          \n",
            "                                                                                                  \n",
            " tfsppf (TFSPPF)             (1, 10, 10, 512)             656128    ['tfc3_3[0][0]']              \n",
            "                                                                                                  \n",
            " tf_conv_33 (TFConv)         (1, 10, 10, 256)             131328    ['tfsppf[0][0]']              \n",
            "                                                                                                  \n",
            " tf_upsample (TFUpsample)    (1, 20, 20, 256)             0         ['tf_conv_33[0][0]']          \n",
            "                                                                                                  \n",
            " tf_concat (TFConcat)        (1, 20, 20, 512)             0         ['tf_upsample[0][0]',         \n",
            "                                                                     'tfc3_2[0][0]']              \n",
            "                                                                                                  \n",
            " tfc3_4 (TFC3)               (1, 20, 20, 256)             361216    ['tf_concat[0][0]']           \n",
            "                                                                                                  \n",
            " tf_conv_39 (TFConv)         (1, 20, 20, 128)             32896     ['tfc3_4[0][0]']              \n",
            "                                                                                                  \n",
            " tf_upsample_1 (TFUpsample)  (1, 40, 40, 128)             0         ['tf_conv_39[0][0]']          \n",
            "                                                                                                  \n",
            " tf_concat_1 (TFConcat)      (1, 40, 40, 256)             0         ['tf_upsample_1[0][0]',       \n",
            "                                                                     'tfc3_1[0][0]']              \n",
            "                                                                                                  \n",
            " tfc3_5 (TFC3)               (1, 40, 40, 128)             90496     ['tf_concat_1[0][0]']         \n",
            "                                                                                                  \n",
            " tf_conv_45 (TFConv)         (1, 20, 20, 128)             147584    ['tfc3_5[0][0]']              \n",
            "                                                                                                  \n",
            " tf_concat_2 (TFConcat)      (1, 20, 20, 256)             0         ['tf_conv_45[0][0]',          \n",
            "                                                                     'tf_conv_39[0][0]']          \n",
            "                                                                                                  \n",
            " tfc3_6 (TFC3)               (1, 20, 20, 256)             295680    ['tf_concat_2[0][0]']         \n",
            "                                                                                                  \n",
            " tf_conv_51 (TFConv)         (1, 10, 10, 256)             590080    ['tfc3_6[0][0]']              \n",
            "                                                                                                  \n",
            " tf_concat_3 (TFConcat)      (1, 10, 10, 512)             0         ['tf_conv_51[0][0]',          \n",
            "                                                                     'tf_conv_33[0][0]']          \n",
            "                                                                                                  \n",
            " tfc3_7 (TFC3)               (1, 10, 10, 512)             1181184   ['tf_concat_3[0][0]']         \n",
            "                                                                                                  \n",
            " tf_detect (TFDetect)        ((1, 6300, 6),               16182     ['tfc3_5[0][0]',              \n",
            "                             )                                       'tfc3_6[0][0]',              \n",
            "                                                                     'tfc3_7[0][0]']              \n",
            "                                                                                                  \n",
            "==================================================================================================\n",
            "Total params: 7012822 (26.75 MB)\n",
            "Trainable params: 0 (0.00 Byte)\n",
            "Non-trainable params: 7012822 (26.75 MB)\n",
            "__________________________________________________________________________________________________\n",
            "\u001b[34m\u001b[1mTensorFlow SavedModel:\u001b[0m export success ✅ 16.8s, saved as yolov5/best_saved_model (27.0 MB)\n",
            "\n",
            "\u001b[34m\u001b[1mTensorFlow Lite:\u001b[0m starting export with tensorflow 2.15.0...\n",
            "Summary on the non-converted ops:\n",
            "---------------------------------\n",
            " * Accepted dialects: tfl, builtin, func\n",
            " * Non-Converted Ops: 146, Total Ops 535, % non-converted = 27.29 %\n",
            " * 146 ARITH ops\n",
            "\n",
            "- arith.constant:  146 occurrences  (f16: 131, i32: 15)\n",
            "\n",
            "\n",
            "\n",
            "  (f32: 10)\n",
            "  (f32: 17)\n",
            "  (f32: 60)\n",
            "  (f32: 131)\n",
            "  (f32: 66)\n",
            "  (f32: 3)\n",
            "  (f32: 75)\n",
            "  (f32: 7)\n",
            "  (f32: 6)\n",
            "  (f32: 2)\n",
            "  (f32: 9)\n",
            "\u001b[34m\u001b[1mTensorFlow Lite:\u001b[0m export success ✅ 72.3s, saved as yolov5/best-fp16.tflite (13.5 MB)\n",
            "\n",
            "Export complete (90.4s)\n",
            "Results saved to \u001b[1m/content/yolov5\u001b[0m\n",
            "Detect:          python detect.py --weights yolov5/best-fp16.tflite \n",
            "Validate:        python val.py --weights yolov5/best-fp16.tflite \n",
            "PyTorch Hub:     model = torch.hub.load('ultralytics/yolov5', 'custom', 'yolov5/best-fp16.tflite')  \n",
            "Visualize:       https://netron.app\n"
          ]
        }
      ]
    }
  ]
}